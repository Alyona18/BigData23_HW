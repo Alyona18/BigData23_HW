{
 "cells": [
  {
   "attachments": {},
   "cell_type": "markdown",
   "metadata": {},
   "source": [
    "# Задание 5.\n",
    "\n",
    "Загрузите [данные по изменению температуры поверхности земли](https://www.kaggle.com/datasets/berkeleyearth/climate-change-earth-surface-temperature-data). Для этого может понадобится зарегистрироваться на [Kaggle](https://kaggle.com). Затем нужно будет работать с данными, которые содержатся в файле **GlobalLandTemperaturesByMajorCity.csv**\n",
    "\n",
    "**NB** Все подсчеты необходимо делать с помощью `PySpark`, без применения `pandas api`. Можно использоать `SQL`."
   ]
  },
  {
   "cell_type": "code",
   "execution_count": 2,
   "metadata": {},
   "outputs": [
    {
     "name": "stdout",
     "output_type": "stream",
     "text": [
      "+----------+------------------+-----------------------------+-------+-------------+--------+---------+\n",
      "|        dt|AverageTemperature|AverageTemperatureUncertainty|   City|      Country|Latitude|Longitude|\n",
      "+----------+------------------+-----------------------------+-------+-------------+--------+---------+\n",
      "|1849-01-01|            26.704|                        1.435|Abidjan|Côte D'Ivoire|   5.63N|    3.23W|\n",
      "|1849-02-01|            27.434|                        1.362|Abidjan|Côte D'Ivoire|   5.63N|    3.23W|\n",
      "|1849-03-01|            28.101|                        1.612|Abidjan|Côte D'Ivoire|   5.63N|    3.23W|\n",
      "|1849-04-01|             26.14|           1.3869999999999998|Abidjan|Côte D'Ivoire|   5.63N|    3.23W|\n",
      "|1849-05-01|            25.427|                          1.2|Abidjan|Côte D'Ivoire|   5.63N|    3.23W|\n",
      "|1849-06-01|            24.844|                        1.402|Abidjan|Côte D'Ivoire|   5.63N|    3.23W|\n",
      "|1849-07-01|24.058000000000003|                        1.254|Abidjan|Côte D'Ivoire|   5.63N|    3.23W|\n",
      "|1849-08-01|            23.576|                        1.265|Abidjan|Côte D'Ivoire|   5.63N|    3.23W|\n",
      "|1849-09-01|            23.662|                        1.226|Abidjan|Côte D'Ivoire|   5.63N|    3.23W|\n",
      "|1849-10-01|            25.263|                        1.175|Abidjan|Côte D'Ivoire|   5.63N|    3.23W|\n",
      "+----------+------------------+-----------------------------+-------+-------------+--------+---------+\n",
      "only showing top 10 rows\n",
      "\n"
     ]
    }
   ],
   "source": [
    "import zipfile\n",
    "\n",
    "import pandas as pd\n",
    "import matplotlib.pyplot as plt\n",
    "\n",
    "from pyspark.sql import SparkSession\n",
    "\n",
    "%matplotlib inline\n",
    "\n",
    "spark = SparkSession \\\n",
    "    .builder \\\n",
    "    .master(\"local[*]\") \\\n",
    "    .appName(\"PySpark\") \\\n",
    "    .getOrCreate()\n",
    "\n",
    "with zipfile.ZipFile(\"D:/big-data-2023/alms-bd-2023-3cecad0d39f8/data/GlobalLandTemperaturesByMajorCity.csv.zip\") as z:\n",
    "    with z.open(\"GlobalLandTemperaturesByMajorCity.csv\") as f:\n",
    "        pandas_df = pd.read_csv(f)\n",
    "        df = spark.createDataFrame(pandas_df)\n",
    "\n",
    "df.show(10)"
   ]
  },
  {
   "attachments": {},
   "cell_type": "markdown",
   "metadata": {},
   "source": [
    "# Задание 3.1 (1 балл)\n",
    "\n",
    "В последующих заданиях будут учитываться данные начиная с 01.01.1950. Для этого создайте новый `DataFrame`, в котором удалены все строки до 01.01.1950. Используйте созданный DataFrame в последующих заданиях.  "
   ]
  },
  {
   "cell_type": "code",
   "execution_count": 87,
   "metadata": {},
   "outputs": [
    {
     "name": "stdout",
     "output_type": "stream",
     "text": [
      "+----------+------------------+-----------------------------+-------+-------------+--------+---------+\n",
      "|        dt|AverageTemperature|AverageTemperatureUncertainty|   City|      Country|Latitude|Longitude|\n",
      "+----------+------------------+-----------------------------+-------+-------------+--------+---------+\n",
      "|1950-01-01|26.773000000000003|                        0.239|Abidjan|Côte D'Ivoire|   5.63N|    3.23W|\n",
      "|1950-02-01|            27.527|                        0.348|Abidjan|Côte D'Ivoire|   5.63N|    3.23W|\n",
      "|1950-03-01|            28.344|                        0.431|Abidjan|Côte D'Ivoire|   5.63N|    3.23W|\n",
      "|1950-04-01|             27.83|                        0.467|Abidjan|Côte D'Ivoire|   5.63N|    3.23W|\n",
      "|1950-05-01|            26.896|                        0.248|Abidjan|Côte D'Ivoire|   5.63N|    3.23W|\n",
      "|1950-06-01|            25.454|                        0.209|Abidjan|Côte D'Ivoire|   5.63N|    3.23W|\n",
      "|1950-07-01|            24.878|                        0.403|Abidjan|Côte D'Ivoire|   5.63N|    3.23W|\n",
      "|1950-08-01|            23.734|                        0.314|Abidjan|Côte D'Ivoire|   5.63N|    3.23W|\n",
      "|1950-09-01|            24.253|                        0.257|Abidjan|Côte D'Ivoire|   5.63N|    3.23W|\n",
      "|1950-10-01|            25.266|                        0.191|Abidjan|Côte D'Ivoire|   5.63N|    3.23W|\n",
      "|1950-11-01|            26.686|                        0.368|Abidjan|Côte D'Ivoire|   5.63N|    3.23W|\n",
      "|1950-12-01|            26.704|                        0.363|Abidjan|Côte D'Ivoire|   5.63N|    3.23W|\n",
      "|1951-01-01| 26.94400000000001|                        0.441|Abidjan|Côte D'Ivoire|   5.63N|    3.23W|\n",
      "|1951-02-01|            27.118|                        0.569|Abidjan|Côte D'Ivoire|   5.63N|    3.23W|\n",
      "|1951-03-01|            27.983|                        0.274|Abidjan|Côte D'Ivoire|   5.63N|    3.23W|\n",
      "|1951-04-01|            27.914|                        0.204|Abidjan|Côte D'Ivoire|   5.63N|    3.23W|\n",
      "|1951-05-01|             26.69|                        0.168|Abidjan|Côte D'Ivoire|   5.63N|    3.23W|\n",
      "|1951-06-01|            25.618|                        0.436|Abidjan|Côte D'Ivoire|   5.63N|    3.23W|\n",
      "+----------+------------------+-----------------------------+-------+-------------+--------+---------+\n",
      "only showing top 18 rows\n",
      "\n"
     ]
    }
   ],
   "source": [
    "from pyspark.sql.functions import col\n",
    "\n",
    "df_mini = df.filter(col(\"dt\") >= '1950-01-01')\n",
    "\n",
    "df_mini.show(18)"
   ]
  },
  {
   "attachments": {},
   "cell_type": "markdown",
   "metadata": {},
   "source": [
    "# Задание 3.2 (2 балла)\n",
    "\n",
    "Постройте график среднегодовых температур в городе Торонто."
   ]
  },
  {
   "cell_type": "code",
   "execution_count": 21,
   "metadata": {},
   "outputs": [
    {
     "name": "stdout",
     "output_type": "stream",
     "text": [
      "+----+------------------+\n",
      "|year|  mean_temperature|\n",
      "+----+------------------+\n",
      "|1950| 5.639583333333335|\n",
      "|1951| 6.259083333333334|\n",
      "|1952| 7.013416666666667|\n",
      "|1953|7.5062500000000005|\n",
      "|1954| 6.243083333333332|\n",
      "|1955| 6.974750000000001|\n",
      "|1956| 5.745750000000001|\n",
      "|1957| 6.424916666666667|\n",
      "|1958| 5.624333333333333|\n",
      "|1959| 6.403750000000001|\n",
      "|1960| 5.896833333333334|\n",
      "|1961| 6.461666666666666|\n",
      "|1962| 5.891333333333333|\n",
      "|1963| 5.486583333333335|\n",
      "|1964| 6.504083333333333|\n",
      "|1965| 5.590666666666667|\n",
      "|1966| 6.027999999999999|\n",
      "|1967|            5.6565|\n",
      "|1968| 6.112666666666667|\n",
      "|1969|6.0343333333333335|\n",
      "+----+------------------+\n",
      "only showing top 20 rows\n",
      "\n"
     ]
    }
   ],
   "source": [
    "from pyspark.sql.functions import year, avg\n",
    "\n",
    "df_toronto_yearly_mean = df_mini.filter(col(\"City\") == \"Toronto\").groupBy(year(\"dt\").alias(\"year\")).agg(avg(\"AverageTemperature\").alias(\"mean_temperature\")).sort(col(\"year\"))\n",
    "df_toronto_yearly_mean.show()"
   ]
  },
  {
   "cell_type": "code",
   "execution_count": 22,
   "metadata": {},
   "outputs": [
    {
     "data": {
      "image/png": "[encoded data removed]",
      "text/plain": [
       "<Figure size 640x480 with 1 Axes>"
      ]
     },
     "metadata": {},
     "output_type": "display_data"
    }
   ],
   "source": [
    "rdd_toronto_yearly_mean = df_toronto_yearly_mean.rdd\n",
    "\n",
    "years = rdd_toronto_yearly_mean.map(lambda x: x.year).collect()\n",
    "mean_temperatures = rdd_toronto_yearly_mean.map(lambda x: x.mean_temperature).collect()\n",
    "\n",
    "plt.plot(years, mean_temperatures)\n",
    "plt.show()\n"
   ]
  },
  {
   "attachments": {},
   "cell_type": "markdown",
   "metadata": {},
   "source": [
    "# Задание 3.3 (2 балла)\n",
    "\n",
    "Найдите город, для которого выборочная дисперсия температур на приведенных данных максимальна. "
   ]
  },
  {
   "cell_type": "code",
   "execution_count": 88,
   "metadata": {},
   "outputs": [
    {
     "name": "stdout",
     "output_type": "stream",
     "text": [
      "+------+------------------+\n",
      "|  City|    VarTemperature|\n",
      "+------+------------------+\n",
      "|Harbin|218.61209943879504|\n",
      "+------+------------------+\n",
      "\n"
     ]
    }
   ],
   "source": [
    "from pyspark.sql.functions import var_pop, max\n",
    "\n",
    "df_mini_Var = df_mini.dropna().groupBy(\"City\").agg(var_pop(\"AverageTemperature\").alias(\"VarTemperature\"))\n",
    "max_var = df_mini_Var.agg(max(\"VarTemperature\")).collect()[0][0]\n",
    "df_mini_Var = df_mini_Var.filter(df_mini_Var.VarTemperature == max_var)\n",
    "df_mini_Var.show()"
   ]
  },
  {
   "attachments": {},
   "cell_type": "markdown",
   "metadata": {},
   "source": [
    "# Задание 3.4 (4 балла)\n",
    "\n",
    "На одной оси постройте графики, отображающие:\n",
    "1. Зависимость выборочной дисперсии температур от широты города (Latitude).\n",
    "2. Зависимость средней температуры в январе 1975 года от широты города (Latitude).\n",
    "3. Зависимость средней температуры в июле 1975 года от широты города (Latitude)."
   ]
  },
  {
   "cell_type": "code",
   "execution_count": 89,
   "metadata": {},
   "outputs": [
    {
     "name": "stdout",
     "output_type": "stream",
     "text": [
      "+-------+----------+------------------+-----------------------------+-------------+--------+---------+--------------+\n",
      "|   City|        dt|AverageTemperature|AverageTemperatureUncertainty|      Country|Latitude|Longitude|VarTemperature|\n",
      "+-------+----------+------------------+-----------------------------+-------------+--------+---------+--------------+\n",
      "|Abidjan|1950-01-01|26.773000000000003|                        0.239|Côte D'Ivoire|   5.63N|    3.23W|          null|\n",
      "|Abidjan|1950-02-01|            27.527|                        0.348|Côte D'Ivoire|   5.63N|    3.23W|          null|\n",
      "|Abidjan|1950-03-01|            28.344|                        0.431|Côte D'Ivoire|   5.63N|    3.23W|          null|\n",
      "|Abidjan|1950-04-01|             27.83|                        0.467|Côte D'Ivoire|   5.63N|    3.23W|          null|\n",
      "|Abidjan|1950-05-01|            26.896|                        0.248|Côte D'Ivoire|   5.63N|    3.23W|          null|\n",
      "|Abidjan|1950-06-01|            25.454|                        0.209|Côte D'Ivoire|   5.63N|    3.23W|          null|\n",
      "|Abidjan|1950-07-01|            24.878|                        0.403|Côte D'Ivoire|   5.63N|    3.23W|          null|\n",
      "|Abidjan|1950-08-01|            23.734|                        0.314|Côte D'Ivoire|   5.63N|    3.23W|          null|\n",
      "|Abidjan|1950-09-01|            24.253|                        0.257|Côte D'Ivoire|   5.63N|    3.23W|          null|\n",
      "|Abidjan|1950-10-01|            25.266|                        0.191|Côte D'Ivoire|   5.63N|    3.23W|          null|\n",
      "|Abidjan|1950-11-01|            26.686|                        0.368|Côte D'Ivoire|   5.63N|    3.23W|          null|\n",
      "|Abidjan|1950-12-01|            26.704|                        0.363|Côte D'Ivoire|   5.63N|    3.23W|          null|\n",
      "|Abidjan|1951-01-01| 26.94400000000001|                        0.441|Côte D'Ivoire|   5.63N|    3.23W|          null|\n",
      "|Abidjan|1951-02-01|            27.118|                        0.569|Côte D'Ivoire|   5.63N|    3.23W|          null|\n",
      "|Abidjan|1951-03-01|            27.983|                        0.274|Côte D'Ivoire|   5.63N|    3.23W|          null|\n",
      "|Abidjan|1951-04-01|            27.914|                        0.204|Côte D'Ivoire|   5.63N|    3.23W|          null|\n",
      "|Abidjan|1951-05-01|             26.69|                        0.168|Côte D'Ivoire|   5.63N|    3.23W|          null|\n",
      "|Abidjan|1951-06-01|            25.618|                        0.436|Côte D'Ivoire|   5.63N|    3.23W|          null|\n",
      "|Abidjan|1951-07-01|            24.783|                        0.215|Côte D'Ivoire|   5.63N|    3.23W|          null|\n",
      "|Abidjan|1951-08-01|24.058000000000003|                         0.21|Côte D'Ivoire|   5.63N|    3.23W|          null|\n",
      "+-------+----------+------------------+-----------------------------+-------------+--------+---------+--------------+\n",
      "only showing top 20 rows\n",
      "\n"
     ]
    }
   ],
   "source": [
    "df_mini = df_mini.join(df_mini_Var.select(\"City\", \"VarTemperature\"), on=\"City\", how=\"left\")\n",
    "df_mini.show()"
   ]
  },
  {
   "cell_type": "code",
   "execution_count": 167,
   "metadata": {},
   "outputs": [],
   "source": [
    "from pyspark.sql.functions import when, regexp_replace, expr\n",
    "\n",
    "df_mini = df_mini.withColumn(\"Longitude\", \n",
    "                             when(df_mini[\"Longitude\"].contains(\"E\"), \n",
    "                                  regexp_replace(df_mini[\"Longitude\"], \"E\", \"\")\n",
    "                                  .cast(\"double\"))\n",
    "                             .when(df_mini[\"Longitude\"].contains(\"W\"), \n",
    "                                   expr(\"regexp_replace(Longitude, 'W', '') * -1\")\n",
    "                                   .cast(\"double\"))\n",
    "                             .otherwise(df_mini[\"Longitude\"]))\n",
    "\n",
    "\n",
    "df_mini = df_mini.withColumn(\"Latitude\", \n",
    "                             when(df_mini[\"Latitude\"].contains(\"N\"), \n",
    "                                  regexp_replace(df_mini[\"Latitude\"], \"N\", \"\")\n",
    "                                  .cast(\"double\"))\n",
    "                             .when(df_mini[\"Latitude\"].contains(\"S\"), \n",
    "                                   expr(\"regexp_replace(Latitude, 'S', '') * -1\")\n",
    "                                   .cast(\"double\"))\n",
    "                             .otherwise(df_mini[\"Latitude\"])).sort(col(\"Latitude\"))\n"
   ]
  },
  {
   "cell_type": "code",
   "execution_count": 93,
   "metadata": {},
   "outputs": [
    {
     "name": "stdout",
     "output_type": "stream",
     "text": [
      "+-------+----------+------------------+-----------------------------+-------------+--------+---------+--------------+\n",
      "|   City|        dt|AverageTemperature|AverageTemperatureUncertainty|      Country|Latitude|Longitude|VarTemperature|\n",
      "+-------+----------+------------------+-----------------------------+-------------+--------+---------+--------------+\n",
      "|Abidjan|1950-01-01|26.773000000000003|                        0.239|Côte D'Ivoire|    5.63|    -3.23|          null|\n",
      "|Abidjan|1950-02-01|            27.527|                        0.348|Côte D'Ivoire|    5.63|    -3.23|          null|\n",
      "|Abidjan|1950-03-01|            28.344|                        0.431|Côte D'Ivoire|    5.63|    -3.23|          null|\n",
      "|Abidjan|1950-04-01|             27.83|                        0.467|Côte D'Ivoire|    5.63|    -3.23|          null|\n",
      "|Abidjan|1950-05-01|            26.896|                        0.248|Côte D'Ivoire|    5.63|    -3.23|          null|\n",
      "|Abidjan|1950-06-01|            25.454|                        0.209|Côte D'Ivoire|    5.63|    -3.23|          null|\n",
      "|Abidjan|1950-07-01|            24.878|                        0.403|Côte D'Ivoire|    5.63|    -3.23|          null|\n",
      "|Abidjan|1950-08-01|            23.734|                        0.314|Côte D'Ivoire|    5.63|    -3.23|          null|\n",
      "|Abidjan|1950-09-01|            24.253|                        0.257|Côte D'Ivoire|    5.63|    -3.23|          null|\n",
      "|Abidjan|1950-10-01|            25.266|                        0.191|Côte D'Ivoire|    5.63|    -3.23|          null|\n",
      "|Abidjan|1950-11-01|            26.686|                        0.368|Côte D'Ivoire|    5.63|    -3.23|          null|\n",
      "|Abidjan|1950-12-01|            26.704|                        0.363|Côte D'Ivoire|    5.63|    -3.23|          null|\n",
      "|Abidjan|1951-01-01| 26.94400000000001|                        0.441|Côte D'Ivoire|    5.63|    -3.23|          null|\n",
      "|Abidjan|1951-02-01|            27.118|                        0.569|Côte D'Ivoire|    5.63|    -3.23|          null|\n",
      "|Abidjan|1951-03-01|            27.983|                        0.274|Côte D'Ivoire|    5.63|    -3.23|          null|\n",
      "|Abidjan|1951-04-01|            27.914|                        0.204|Côte D'Ivoire|    5.63|    -3.23|          null|\n",
      "|Abidjan|1951-05-01|             26.69|                        0.168|Côte D'Ivoire|    5.63|    -3.23|          null|\n",
      "|Abidjan|1951-06-01|            25.618|                        0.436|Côte D'Ivoire|    5.63|    -3.23|          null|\n",
      "|Abidjan|1951-07-01|            24.783|                        0.215|Côte D'Ivoire|    5.63|    -3.23|          null|\n",
      "|Abidjan|1951-08-01|24.058000000000003|                         0.21|Côte D'Ivoire|    5.63|    -3.23|          null|\n",
      "+-------+----------+------------------+-----------------------------+-------------+--------+---------+--------------+\n",
      "only showing top 20 rows\n",
      "\n"
     ]
    }
   ],
   "source": [
    "df_mini.show()"
   ]
  },
  {
   "cell_type": "code",
   "execution_count": 169,
   "metadata": {},
   "outputs": [
    {
     "data": {
      "image/png": "[encoded data removed]",
      "text/plain": [
       "<Figure size 2000x2000 with 1 Axes>"
      ]
     },
     "metadata": {},
     "output_type": "display_data"
    }
   ],
   "source": [
    "# 1)\n",
    "fig, ax = plt.subplots(figsize=(20, 20))\n",
    "ax.scatter(df_mini.select(col(\"Latitude\")).rdd.flatMap(lambda x: x).collect(),\n",
    "            df_mini.select(col(\"VarTemperature\")).rdd.flatMap(lambda x: x).collect(),\n",
    "           label=\"VarTemperature:Latitude\")\n",
    "\n",
    "# 2)\n",
    "ax.scatter(\n",
    "           df_mini.filter(col(\"dt\") == \"1975-01-01\").select(col(\"Latitude\")).rdd.flatMap(lambda x: x).collect(),\n",
    "           df_mini.filter(col(\"dt\") == \"1975-01-01\").select(col(\"AverageTemperature\")).rdd.flatMap(lambda x: x).collect(),\n",
    "           label=\"AverageTemperature:Latitude (1975 January)\")\n",
    "\n",
    "# 3)\n",
    "ax.scatter(\n",
    "           df_mini.filter(col(\"dt\") == \"1975-07-01\").select(col(\"Latitude\")).rdd.flatMap(lambda x: x).collect(),\n",
    "           df_mini.filter(col(\"dt\") == \"1975-07-01\").select(col(\"AverageTemperature\")).rdd.flatMap(lambda x: x).collect(),\n",
    "           label=\"AverageTemperature:Latitude (1975 July)\")\n",
    "\n",
    "ax.legend()\n",
    "plt.show()"
   ]
  },
  {
   "attachments": {},
   "cell_type": "markdown",
   "metadata": {},
   "source": [
    "# Задание 3.5 (6 баллов)\n",
    "\n",
    "Посчитайте данные по среднегодовой температуре в Санкт-Петербурге. Определите года, в которых средняя температура была выше, чем в предыдущем  и последующем году. Постройте график среднегодовой температуры и обозначьте на нём найденные года (произвольным образом). \n",
    "\n",
    "Постройте модель линейной регрессии (можно использовать [LinearRegression](https://scikit-learn.org/stable/modules/generated/sklearn.linear_model.LinearRegression.html)): $\\mathbb{год} \\rightarrow \\mathbb{средняя\\_температура}$. Отобразите прямую на предыдущем графике. "
   ]
  },
  {
   "cell_type": "code",
   "execution_count": 214,
   "metadata": {},
   "outputs": [],
   "source": [
    "import numpy as np\n",
    "\n",
    "\n",
    "def calculate_slope(x, y):\n",
    "    mx = np.array([i - np.mean(x) for i in x])\n",
    "    my = np.array([i - np.nanmean(y) for i in y])\n",
    "    result = np.nansum(mx * my) / np.sum(mx**2)\n",
    "    return result\n",
    "    \n",
    "def get_params(x, y):    \n",
    "    a = calculate_slope(x, y)\n",
    "    b = np.nanmean(y) - a * np.mean(x)\n",
    "    return a, b"
   ]
  },
  {
   "cell_type": "code",
   "execution_count": 216,
   "metadata": {},
   "outputs": [
    {
     "name": "stdout",
     "output_type": "stream",
     "text": [
      "Years:  [1951, 1952, 1953, 1954, 1955, 1956, 1957, 1958, 1959, 1960, 1961, 1962, 1963, 1964, 1965, 1966, 1967, 1968, 1969, 1970, 1971, 1972, 1973, 1974, 1975, 1976, 1977, 1978, 1979, 1980, 1981, 1982, 1983, 1984, 1985, 1986, 1987, 1988, 1989, 1990, 1991, 1992, 1993, 1994, 1995, 1996, 1997, 1998, 1999, 2000, 2001, 2002, 2003, 2004, 2005, 2006, 2007, 2008, 2009, 2010, 2011, 2012]\n"
     ]
    },
    {
     "data": {
      "image/png": "[encoded data removed]",
      "text/plain": [
       "<Figure size 640x480 with 1 Axes>"
      ]
     },
     "metadata": {},
     "output_type": "display_data"
    }
   ],
   "source": [
    "from pyspark.sql.functions import year, avg, lag, lead\n",
    "from pyspark.sql.window import Window\n",
    "\n",
    "df_peter_yearly_mean = df_mini.filter(df_mini.City == 'Saint Petersburg') \\\n",
    "    .groupBy(year('dt').alias('year')) \\\n",
    "    .agg(avg('AverageTemperature').alias('AverageTemperature'))\n",
    "\n",
    "window = Window.orderBy('year')\n",
    "\n",
    "df_peter_yearly_mean_special = df_peter_yearly_mean \\\n",
    "    .withColumn('previous', lag('AverageTemperature', 1).over(window)) \\\n",
    "    .withColumn('next', lead('AverageTemperature', 1).over(window)) \\\n",
    "    .orderBy('year')\n",
    "\n",
    "plt.plot(df_peter_yearly_mean_special.select('year').collect(),\n",
    "         df_peter_yearly_mean_special.select('AverageTemperature').collect(),\n",
    "         label='Average temperature')\n",
    "\n",
    "x = df_peter_yearly_mean_special.sort(\"year\").filter((df_peter_yearly_mean_special.next > 0) & (df_peter_yearly_mean_special.previous > 0)).select(\"year\").collect()\n",
    "y = df_peter_yearly_mean_special.sort(\"year\").filter((df_peter_yearly_mean_special.next > 0) & (df_peter_yearly_mean_special.previous > 0)).select(\"AverageTemperature\").collect()\n",
    "\n",
    "x_lin = [row[\"year\"] for row in df_peter_yearly_mean.sort(\"year\").select(\"year\").collect()]\n",
    "y_lin = [row[\"AverageTemperature\"] for row in df_peter_yearly_mean.sort(\"year\").select(\"AverageTemperature\").collect()]\n",
    "a, b = get_params(x_lin, y_lin)\n",
    "lin_reg = [a * year + b for year in x_lin]\n",
    "\n",
    "print(\"Years: \", [row[\"year\"] for row in x])\n",
    "plt.plot([row[\"year\"] for row in x], [row[\"AverageTemperature\"] for row in y], 'o')\n",
    "plt.plot([row[\"year\"] for row in df_peter_yearly_mean.sort(\"year\").select(\"year\").collect()], lin_reg, color='red', label='regresion')\n",
    "plt.legend()\n",
    "plt.show()"
   ]
  },
  {
   "attachments": {},
   "cell_type": "markdown",
   "metadata": {},
   "source": [
    "# Задание 3.6 (4 балла)\n",
    "\n",
    "Найдите города, для которых: \n",
    "1. Разница между максимальным и минимальным значением среднегодовой температуры в выборке максимальна.\n",
    "2. Самая большая средняя разница между средней температурой января и средней температурой июля.\n",
    "3. Наибольшее среднее количество месяцев с отрицательной температурой в году."
   ]
  },
  {
   "cell_type": "code",
   "execution_count": 252,
   "metadata": {},
   "outputs": [
    {
     "name": "stdout",
     "output_type": "stream",
     "text": [
      "+------+---------------+---------------+------------------+\n",
      "|  City|min_temperature|max_temperature|  temperature_diff|\n",
      "+------+---------------+---------------+------------------+\n",
      "|Harbin|        -23.922|         25.357|49.278999999999996|\n",
      "+------+---------------+---------------+------------------+\n",
      "\n"
     ]
    }
   ],
   "source": [
    "from pyspark.sql import functions as F\n",
    "\n",
    "df_city_temperatures = df_mini.dropna().groupBy(\"City\") \\\n",
    "    .agg(F.min(\"AverageTemperature\").alias(\"min_temperature\"),\n",
    "         F.max(\"AverageTemperature\").alias(\"max_temperature\"))\n",
    "\n",
    "df_city_temperatures = df_city_temperatures.withColumn(\"temperature_diff\", F.col(\"max_temperature\") - F.col(\"min_temperature\"))\n",
    "max_diff = df_city_temperatures.agg(F.max(\"temperature_diff\")).collect()[0][0]\n",
    "df_cities_max_diff = df_city_temperatures.filter(F.col(\"temperature_diff\") == max_diff)\n",
    "\n",
    "df_cities_max_diff.show()\n"
   ]
  },
  {
   "cell_type": "code",
   "execution_count": 260,
   "metadata": {},
   "outputs": [
    {
     "name": "stdout",
     "output_type": "stream",
     "text": [
      "+-------------+------------+\n",
      "|         City|average_diff|\n",
      "+-------------+------------+\n",
      "|Santo Domingo| 28.52078125|\n",
      "+-------------+------------+\n",
      "\n"
     ]
    }
   ],
   "source": [
    "\n",
    "# Filter the DataFrame for January and July months\n",
    "df_mini_JaJu = df_mini.sort('dt').filter((F.month('dt') == 1) | (F.month('dt') == 7))\n",
    "\n",
    "# Calculate the temperature difference between consecutive rows\n",
    "df_mini_JaJu = df_mini_JaJu.withColumn('diff', F.col('AverageTemperature') - F.lag('AverageTemperature').over(Window.orderBy('dt')))\n",
    "\n",
    "# Filter the DataFrame for July rows\n",
    "df_mini_JaJu = df_mini_JaJu.sort('dt').filter(F.month('dt') == 7)\n",
    "\n",
    "# Take the absolute value of the temperature difference\n",
    "df_mini_JaJu = df_mini_JaJu.sort('dt').withColumn('diff', F.abs(F.col('diff')))\n",
    "\n",
    "# Calculate the average temperature difference for each city\n",
    "df_mini_JaJu_AvDiff = df_mini_JaJu.sort('dt').groupBy('City').agg(F.mean('diff').alias('average_diff'))\n",
    "\n",
    "# Find the city with the maximum average temperature difference\n",
    "max_diff_city = df_mini_JaJu_AvDiff.filter(F.col('average_diff') == df_mini_JaJu_AvDiff.agg(F.max('average_diff')).first()[0])\n",
    "\n",
    "max_diff_city.show()"
   ]
  },
  {
   "cell_type": "code",
   "execution_count": 254,
   "metadata": {},
   "outputs": [
    {
     "name": "stdout",
     "output_type": "stream",
     "text": [
      "+------+---------------------------+\n",
      "|  City|average_count_negative_temp|\n",
      "+------+---------------------------+\n",
      "|Harbin|                    4.90625|\n",
      "+------+---------------------------+\n",
      "\n"
     ]
    }
   ],
   "source": [
    "df_mini_neg = df_mini.filter(df_mini.AverageTemperature < 0)\n",
    "\n",
    "df_mini_neg = df_mini_neg.groupBy(\"City\", F.year(\"dt\").alias(\"year\")) \\\n",
    "    .agg(F.count(\"AverageTemperature\").alias(\"count_negative_temp\"))\n",
    "\n",
    "df_mini_neg = df_mini_neg.groupBy(\"City\") \\\n",
    "    .agg(F.mean(\"count_negative_temp\").alias(\"average_count_negative_temp\"))\n",
    "\n",
    "max_count_city = df_mini_neg.filter(df_mini_neg.average_count_negative_temp == df_mini_neg.agg(F.max(\"average_count_negative_temp\")).first()[0])\n",
    "\n",
    "max_count_city.show()\n"
   ]
  },
  {
   "attachments": {},
   "cell_type": "markdown",
   "metadata": {},
   "source": [
    "# Задание 3.7 (3 балла)\n",
    "\n",
    "Отобразите города на карте, например с помощью [geopandas/folium](https://geopandas.org/en/stable/gallery/plotting_with_folium.html) или [plotly](https://plotly.com/python-api-reference/generated/plotly.express.scatter_geo.html). Причем цвет метки должен соответствовать средней температуре в январе за последние 10 лет. \n",
    "\n",
    "\n",
    "**\\***(+3 балла). Вычислите прямую с \"трендом\" по изменению средней температуры за год в каждом городе в период 1950-2013 (можно с помощью линейной регрессии, как в задании **3.5**). Отобразите города цветом, который зависит от угла наклона этой прямой. \n",
    "\n",
    "\n",
    "**\\***(+1 балл) В дополнение к предыдущему пункту, используйте библиотеку [pwlf](https://pypi.org/project/pwlf/) с фиксированным числом сегментов и визуализируйте угол наклона последнего сегмента. "
   ]
  },
  {
   "cell_type": "code",
   "execution_count": 262,
   "metadata": {},
   "outputs": [
    {
     "data": {
      "application/vnd.plotly.v1+json": {
       "config": {
        "plotlyServerURL": "https://plot.ly"
       },
       "data": [
        {
         "geo": "geo",
         "hovertemplate": "<b>%{hovertext}</b><br><br>Latitude=%{lat}<br>Longitude=%{lon}<br>AverageTemperature=%{marker.color}<extra></extra>",
         "hovertext": [
          "Nairobi",
          "Lima",
          "Salvador",
          "Brasília",
          "Harare",
          "Belo Horizonte",
          "Rio De Janeiro",
          "São Paulo",
          "Durban",
          "Cape Town",
          "Santiago",
          "Sydney",
          "Melbourne",
          "Fortaleza",
          "Kinshasa",
          "Jakarta",
          "Dar Es Salaam",
          "Surabaya",
          "Luanda",
          "Singapore",
          "Ho Chi Minh City",
          "Bangalore",
          "Kano",
          "Bangkok",
          "Madras",
          "Dakar",
          "Manila",
          "Umm Durman",
          "Hyderabad",
          "Rangoon",
          "Bombay",
          "Pune",
          "Santo Domingo",
          "Mogadishu",
          "Mexico",
          "Jiddah",
          "Nagpur",
          "Surat",
          "Ahmadabad",
          "Calcutta",
          "Dhaka",
          "Guangzhou",
          "Karachi",
          "Riyadh",
          "Taipei",
          "Jaipur",
          "Kanpur",
          "Lakhnau",
          "Delhi",
          "New Delhi",
          "Cairo",
          "Chongqing",
          "Gizeh",
          "Wuhan",
          "Alexandria",
          "Chengdu",
          "Faisalabad",
          "Lahore",
          "Nanjing",
          "Shanghai",
          "Baghdad",
          "Casablanca",
          "Kabul",
          "Los Angeles",
          "Nagoya",
          "Xian",
          "Aleppo",
          "Jinan",
          "Mashhad",
          "Tokyo",
          "Izmir",
          "Seoul",
          "Taiyuan",
          "Tangshan",
          "Ankara",
          "Dalian",
          "Peking",
          "Tianjin",
          "Bogotá",
          "Cali",
          "Istanbul",
          "Madrid",
          "New York",
          "Shenyang",
          "Chicago",
          "Rome",
          "Changchun",
          "Toronto",
          "Harbin",
          "Montreal",
          "Paris",
          "Abidjan",
          "Lagos",
          "Kiev",
          "Berlin",
          "London",
          "Moscow",
          "Saint Petersburg",
          "Ibadan",
          "Addis Abeba"
         ],
         "lat": [
          "-0.8",
          "-12.05",
          "-13.66",
          "-15.27",
          "-18.48",
          "-20.09",
          "-23.31",
          "-23.31",
          "-29.74",
          "-32.95",
          "-32.95",
          "-34.56",
          "-37.78",
          "-4.02",
          "-4.02",
          "-5.63",
          "-7.23",
          "-7.23",
          "-8.84",
          "0.8",
          "10.45",
          "12.05",
          "12.05",
          "13.66",
          "13.66",
          "15.27",
          "15.27",
          "15.27",
          "16.87",
          "16.87",
          "18.48",
          "18.48",
          "18.48",
          "2.41",
          "20.09",
          "21.7",
          "21.7",
          "21.7",
          "23.31",
          "23.31",
          "23.31",
          "23.31",
          "24.92",
          "24.92",
          "24.92",
          "26.52",
          "26.52",
          "26.52",
          "28.13",
          "28.13",
          "29.74",
          "29.74",
          "29.74",
          "29.74",
          "31.35",
          "31.35",
          "31.35",
          "31.35",
          "31.35",
          "31.35",
          "32.95",
          "32.95",
          "34.56",
          "34.56",
          "34.56",
          "34.56",
          "36.17",
          "36.17",
          "36.17",
          "36.17",
          "37.78",
          "37.78",
          "37.78",
          "37.78",
          "39.38",
          "39.38",
          "39.38",
          "39.38",
          "4.02",
          "4.02",
          "40.99",
          "40.99",
          "40.99",
          "40.99",
          "42.59",
          "42.59",
          "44.2",
          "44.2",
          "45.81",
          "45.81",
          "49.03",
          "5.63",
          "5.63",
          "50.63",
          "52.24",
          "52.24",
          "55.45",
          "60.27",
          "7.23",
          "8.84"
         ],
         "legendgroup": "",
         "lon": [
          "36.16",
          "-77.26",
          "-38.81",
          "-47.5",
          "30.42",
          "-44.36",
          "-42.82",
          "-46.31",
          "31.38",
          "18.19",
          "-69.89",
          "151.78",
          "144.41",
          "-40.98",
          "15.27",
          "106.55",
          "39.73",
          "112.7",
          "13.78",
          "103.66",
          "107.18",
          "77.26",
          "8.22",
          "99.91",
          "80.09",
          "-17.5",
          "120.83",
          "32.5",
          "78.7",
          "95.44",
          "72.68",
          "74.37",
          "-69.3",
          "45.8",
          "-98.96",
          "38.94",
          "78.75",
          "73.56",
          "72.52",
          "88.25",
          "90.0",
          "112.72",
          "67.39",
          "46.11",
          "122.36",
          "75.22",
          "80.6",
          "80.6",
          "77.27",
          "77.27",
          "31.38",
          "107.08",
          "31.38",
          "114.46",
          "30.16",
          "103.66",
          "73.51",
          "73.51",
          "118.74",
          "120.63",
          "45.0",
          "-6.7",
          "70.05",
          "-118.7",
          "136.22",
          "108.97",
          "37.79",
          "117.35",
          "59.67",
          "139.23",
          "26.44",
          "126.1",
          "111.86",
          "113.9",
          "33.29",
          "120.69",
          "116.53",
          "116.53",
          "-74.73",
          "-76.34",
          "29.82",
          "-4.26",
          "-74.56",
          "123.55",
          "-87.27",
          "13.09",
          "125.22",
          "-80.5",
          "125.77",
          "-72.69",
          "2.45",
          "-3.23",
          "3.23",
          "31.69",
          "13.14",
          "-0.0",
          "36.85",
          "29.19",
          "4.05",
          "38.11"
         ],
         "marker": {
          "color": [
           17.66272727272727,
           20.23027272727273,
           26.947363636363637,
           22.88836363636364,
           22.45345454545455,
           23.308727272727268,
           26.16636363636364,
           22.79627272727273,
           23.38727272727273,
           20.550272727272727,
           13.331545454545454,
           20.608454545454546,
           20.091545454545454,
           28.01372727272727,
           24.89272727272727,
           26.874545454545455,
           28.436000000000003,
           27.158181818181813,
           25.097545454545454,
           26.535090909090908,
           26.21363636363636,
           23.57390909090909,
           22.19063636363636,
           25.727636363636364,
           25.19845454545455,
           22.226181818181814,
           25.391181818181817,
           23.38145454545454,
           23.564636363636364,
           24.92309090909091,
           24.919818181818187,
           21.18327272727273,
           24.912999999999997,
           27.33145454545455,
           12.838636363636363,
           23.796727272727274,
           19.57654545454545,
           20.695363636363634,
           20.053,
           18.679818181818185,
           18.405090909090912,
           12.554818181818183,
           18.597272727272728,
           14.402454545454544,
           16.97390909090909,
           15.764999999999999,
           14.502181818181821,
           14.502181818181821,
           14.381181818181817,
           14.381181818181817,
           13.890181818181818,
           6.131272727272727,
           13.890181818181818,
           3.858181818181819,
           14.93663636363636,
           0.7709090909090908,
           12.348000000000003,
           12.348000000000003,
           2.8395454545454544,
           3.5170000000000003,
           10.213636363636363,
           9.879545454545452,
           2.4166363636363637,
           10.198272727272727,
           4.409545454545455,
           -2.033363636363637,
           6.077727272727273,
           -1.2595454545454545,
           1.0093636363636365,
           1.756909090909091,
           10.745636363636363,
           -3.4264545454545456,
           -7.837909090909091,
           -3.130909090909091,
           -0.22372727272727272,
           -4.059000000000001,
           -3.8827272727272732,
           -3.8827272727272732,
           20.769090909090906,
           22.608454545454546,
           5.768454545454547,
           3.9343636363636367,
           -2.4457272727272725,
           -10.683272727272726,
           0.1499999999999998,
           3.7570909090909095,
           -15.573727272727274,
           -7.069999999999999,
           -18.151454545454545,
           -10.871818181818183,
           3.8912727272727277,
           27.310909090909092,
           27.067181818181815,
           -4.420272727272728,
           0.4860909090909091,
           4.480181818181818,
           -7.922545454545456,
           -5.890545454545455,
           27.806818181818183,
           18.221818181818183
          ],
          "coloraxis": "coloraxis",
          "symbol": "circle"
         },
         "mode": "markers",
         "name": "",
         "showlegend": false,
         "type": "scattergeo"
        }
       ],
       "layout": {
        "coloraxis": {
         "colorbar": {
          "title": {
           "text": "AverageTemperature"
          }
         },
         "colorscale": [
          [
           0,
           "#0d0887"
          ],
          [
           0.1111111111111111,
           "#46039f"
          ],
          [
           0.2222222222222222,
           "#7201a8"
          ],
          [
           0.3333333333333333,
           "#9c179e"
          ],
          [
           0.4444444444444444,
           "#bd3786"
          ],
          [
           0.5555555555555556,
           "#d8576b"
          ],
          [
           0.6666666666666666,
           "#ed7953"
          ],
          [
           0.7777777777777778,
           "#fb9f3a"
          ],
          [
           0.8888888888888888,
           "#fdca26"
          ],
          [
           1,
           "#f0f921"
          ]
         ]
        },
        "geo": {
         "center": {},
         "domain": {
          "x": [
           0,
           1
          ],
          "y": [
           0,
           1
          ]
         }
        },
        "legend": {
         "tracegroupgap": 0
        },
        "margin": {
         "t": 60
        },
        "template": {
         "data": {
          "bar": [
           {
            "error_x": {
             "color": "#2a3f5f"
            },
            "error_y": {
             "color": "#2a3f5f"
            },
            "marker": {
             "line": {
              "color": "#E5ECF6",
              "width": 0.5
             },
             "pattern": {
              "fillmode": "overlay",
              "size": 10,
              "solidity": 0.2
             }
            },
            "type": "bar"
           }
          ],
          "barpolar": [
           {
            "marker": {
             "line": {
              "color": "#E5ECF6",
              "width": 0.5
             },
             "pattern": {
              "fillmode": "overlay",
              "size": 10,
              "solidity": 0.2
             }
            },
            "type": "barpolar"
           }
          ],
          "carpet": [
           {
            "aaxis": {
             "endlinecolor": "#2a3f5f",
             "gridcolor": "white",
             "linecolor": "white",
             "minorgridcolor": "white",
             "startlinecolor": "#2a3f5f"
            },
            "baxis": {
             "endlinecolor": "#2a3f5f",
             "gridcolor": "white",
             "linecolor": "white",
             "minorgridcolor": "white",
             "startlinecolor": "#2a3f5f"
            },
            "type": "carpet"
           }
          ],
          "choropleth": [
           {
            "colorbar": {
             "outlinewidth": 0,
             "ticks": ""
            },
            "type": "choropleth"
           }
          ],
          "contour": [
           {
            "colorbar": {
             "outlinewidth": 0,
             "ticks": ""
            },
            "colorscale": [
             [
              0,
              "#0d0887"
             ],
             [
              0.1111111111111111,
              "#46039f"
             ],
             [
              0.2222222222222222,
              "#7201a8"
             ],
             [
              0.3333333333333333,
              "#9c179e"
             ],
             [
              0.4444444444444444,
              "#bd3786"
             ],
             [
              0.5555555555555556,
              "#d8576b"
             ],
             [
              0.6666666666666666,
              "#ed7953"
             ],
             [
              0.7777777777777778,
              "#fb9f3a"
             ],
             [
              0.8888888888888888,
              "#fdca26"
             ],
             [
              1,
              "#f0f921"
             ]
            ],
            "type": "contour"
           }
          ],
          "contourcarpet": [
           {
            "colorbar": {
             "outlinewidth": 0,
             "ticks": ""
            },
            "type": "contourcarpet"
           }
          ],
          "heatmap": [
           {
            "colorbar": {
             "outlinewidth": 0,
             "ticks": ""
            },
            "colorscale": [
             [
              0,
              "#0d0887"
             ],
             [
              0.1111111111111111,
              "#46039f"
             ],
             [
              0.2222222222222222,
              "#7201a8"
             ],
             [
              0.3333333333333333,
              "#9c179e"
             ],
             [
              0.4444444444444444,
              "#bd3786"
             ],
             [
              0.5555555555555556,
              "#d8576b"
             ],
             [
              0.6666666666666666,
              "#ed7953"
             ],
             [
              0.7777777777777778,
              "#fb9f3a"
             ],
             [
              0.8888888888888888,
              "#fdca26"
             ],
             [
              1,
              "#f0f921"
             ]
            ],
            "type": "heatmap"
           }
          ],
          "heatmapgl": [
           {
            "colorbar": {
             "outlinewidth": 0,
             "ticks": ""
            },
            "colorscale": [
             [
              0,
              "#0d0887"
             ],
             [
              0.1111111111111111,
              "#46039f"
             ],
             [
              0.2222222222222222,
              "#7201a8"
             ],
             [
              0.3333333333333333,
              "#9c179e"
             ],
             [
              0.4444444444444444,
              "#bd3786"
             ],
             [
              0.5555555555555556,
              "#d8576b"
             ],
             [
              0.6666666666666666,
              "#ed7953"
             ],
             [
              0.7777777777777778,
              "#fb9f3a"
             ],
             [
              0.8888888888888888,
              "#fdca26"
             ],
             [
              1,
              "#f0f921"
             ]
            ],
            "type": "heatmapgl"
           }
          ],
          "histogram": [
           {
            "marker": {
             "pattern": {
              "fillmode": "overlay",
              "size": 10,
              "solidity": 0.2
             }
            },
            "type": "histogram"
           }
          ],
          "histogram2d": [
           {
            "colorbar": {
             "outlinewidth": 0,
             "ticks": ""
            },
            "colorscale": [
             [
              0,
              "#0d0887"
             ],
             [
              0.1111111111111111,
              "#46039f"
             ],
             [
              0.2222222222222222,
              "#7201a8"
             ],
             [
              0.3333333333333333,
              "#9c179e"
             ],
             [
              0.4444444444444444,
              "#bd3786"
             ],
             [
              0.5555555555555556,
              "#d8576b"
             ],
             [
              0.6666666666666666,
              "#ed7953"
             ],
             [
              0.7777777777777778,
              "#fb9f3a"
             ],
             [
              0.8888888888888888,
              "#fdca26"
             ],
             [
              1,
              "#f0f921"
             ]
            ],
            "type": "histogram2d"
           }
          ],
          "histogram2dcontour": [
           {
            "colorbar": {
             "outlinewidth": 0,
             "ticks": ""
            },
            "colorscale": [
             [
              0,
              "#0d0887"
             ],
             [
              0.1111111111111111,
              "#46039f"
             ],
             [
              0.2222222222222222,
              "#7201a8"
             ],
             [
              0.3333333333333333,
              "#9c179e"
             ],
             [
              0.4444444444444444,
              "#bd3786"
             ],
             [
              0.5555555555555556,
              "#d8576b"
             ],
             [
              0.6666666666666666,
              "#ed7953"
             ],
             [
              0.7777777777777778,
              "#fb9f3a"
             ],
             [
              0.8888888888888888,
              "#fdca26"
             ],
             [
              1,
              "#f0f921"
             ]
            ],
            "type": "histogram2dcontour"
           }
          ],
          "mesh3d": [
           {
            "colorbar": {
             "outlinewidth": 0,
             "ticks": ""
            },
            "type": "mesh3d"
           }
          ],
          "parcoords": [
           {
            "line": {
             "colorbar": {
              "outlinewidth": 0,
              "ticks": ""
             }
            },
            "type": "parcoords"
           }
          ],
          "pie": [
           {
            "automargin": true,
            "type": "pie"
           }
          ],
          "scatter": [
           {
            "fillpattern": {
             "fillmode": "overlay",
             "size": 10,
             "solidity": 0.2
            },
            "type": "scatter"
           }
          ],
          "scatter3d": [
           {
            "line": {
             "colorbar": {
              "outlinewidth": 0,
              "ticks": ""
             }
            },
            "marker": {
             "colorbar": {
              "outlinewidth": 0,
              "ticks": ""
             }
            },
            "type": "scatter3d"
           }
          ],
          "scattercarpet": [
           {
            "marker": {
             "colorbar": {
              "outlinewidth": 0,
              "ticks": ""
             }
            },
            "type": "scattercarpet"
           }
          ],
          "scattergeo": [
           {
            "marker": {
             "colorbar": {
              "outlinewidth": 0,
              "ticks": ""
             }
            },
            "type": "scattergeo"
           }
          ],
          "scattergl": [
           {
            "marker": {
             "colorbar": {
              "outlinewidth": 0,
              "ticks": ""
             }
            },
            "type": "scattergl"
           }
          ],
          "scattermapbox": [
           {
            "marker": {
             "colorbar": {
              "outlinewidth": 0,
              "ticks": ""
             }
            },
            "type": "scattermapbox"
           }
          ],
          "scatterpolar": [
           {
            "marker": {
             "colorbar": {
              "outlinewidth": 0,
              "ticks": ""
             }
            },
            "type": "scatterpolar"
           }
          ],
          "scatterpolargl": [
           {
            "marker": {
             "colorbar": {
              "outlinewidth": 0,
              "ticks": ""
             }
            },
            "type": "scatterpolargl"
           }
          ],
          "scatterternary": [
           {
            "marker": {
             "colorbar": {
              "outlinewidth": 0,
              "ticks": ""
             }
            },
            "type": "scatterternary"
           }
          ],
          "surface": [
           {
            "colorbar": {
             "outlinewidth": 0,
             "ticks": ""
            },
            "colorscale": [
             [
              0,
              "#0d0887"
             ],
             [
              0.1111111111111111,
              "#46039f"
             ],
             [
              0.2222222222222222,
              "#7201a8"
             ],
             [
              0.3333333333333333,
              "#9c179e"
             ],
             [
              0.4444444444444444,
              "#bd3786"
             ],
             [
              0.5555555555555556,
              "#d8576b"
             ],
             [
              0.6666666666666666,
              "#ed7953"
             ],
             [
              0.7777777777777778,
              "#fb9f3a"
             ],
             [
              0.8888888888888888,
              "#fdca26"
             ],
             [
              1,
              "#f0f921"
             ]
            ],
            "type": "surface"
           }
          ],
          "table": [
           {
            "cells": {
             "fill": {
              "color": "#EBF0F8"
             },
             "line": {
              "color": "white"
             }
            },
            "header": {
             "fill": {
              "color": "#C8D4E3"
             },
             "line": {
              "color": "white"
             }
            },
            "type": "table"
           }
          ]
         },
         "layout": {
          "annotationdefaults": {
           "arrowcolor": "#2a3f5f",
           "arrowhead": 0,
           "arrowwidth": 1
          },
          "autotypenumbers": "strict",
          "coloraxis": {
           "colorbar": {
            "outlinewidth": 0,
            "ticks": ""
           }
          },
          "colorscale": {
           "diverging": [
            [
             0,
             "#8e0152"
            ],
            [
             0.1,
             "#c51b7d"
            ],
            [
             0.2,
             "#de77ae"
            ],
            [
             0.3,
             "#f1b6da"
            ],
            [
             0.4,
             "#fde0ef"
            ],
            [
             0.5,
             "#f7f7f7"
            ],
            [
             0.6,
             "#e6f5d0"
            ],
            [
             0.7,
             "#b8e186"
            ],
            [
             0.8,
             "#7fbc41"
            ],
            [
             0.9,
             "#4d9221"
            ],
            [
             1,
             "#276419"
            ]
           ],
           "sequential": [
            [
             0,
             "#0d0887"
            ],
            [
             0.1111111111111111,
             "#46039f"
            ],
            [
             0.2222222222222222,
             "#7201a8"
            ],
            [
             0.3333333333333333,
             "#9c179e"
            ],
            [
             0.4444444444444444,
             "#bd3786"
            ],
            [
             0.5555555555555556,
             "#d8576b"
            ],
            [
             0.6666666666666666,
             "#ed7953"
            ],
            [
             0.7777777777777778,
             "#fb9f3a"
            ],
            [
             0.8888888888888888,
             "#fdca26"
            ],
            [
             1,
             "#f0f921"
            ]
           ],
           "sequentialminus": [
            [
             0,
             "#0d0887"
            ],
            [
             0.1111111111111111,
             "#46039f"
            ],
            [
             0.2222222222222222,
             "#7201a8"
            ],
            [
             0.3333333333333333,
             "#9c179e"
            ],
            [
             0.4444444444444444,
             "#bd3786"
            ],
            [
             0.5555555555555556,
             "#d8576b"
            ],
            [
             0.6666666666666666,
             "#ed7953"
            ],
            [
             0.7777777777777778,
             "#fb9f3a"
            ],
            [
             0.8888888888888888,
             "#fdca26"
            ],
            [
             1,
             "#f0f921"
            ]
           ]
          },
          "colorway": [
           "#636efa",
           "#EF553B",
           "#00cc96",
           "#ab63fa",
           "#FFA15A",
           "#19d3f3",
           "#FF6692",
           "#B6E880",
           "#FF97FF",
           "#FECB52"
          ],
          "font": {
           "color": "#2a3f5f"
          },
          "geo": {
           "bgcolor": "white",
           "lakecolor": "white",
           "landcolor": "#E5ECF6",
           "showlakes": true,
           "showland": true,
           "subunitcolor": "white"
          },
          "hoverlabel": {
           "align": "left"
          },
          "hovermode": "closest",
          "mapbox": {
           "style": "light"
          },
          "paper_bgcolor": "white",
          "plot_bgcolor": "#E5ECF6",
          "polar": {
           "angularaxis": {
            "gridcolor": "white",
            "linecolor": "white",
            "ticks": ""
           },
           "bgcolor": "#E5ECF6",
           "radialaxis": {
            "gridcolor": "white",
            "linecolor": "white",
            "ticks": ""
           }
          },
          "scene": {
           "xaxis": {
            "backgroundcolor": "#E5ECF6",
            "gridcolor": "white",
            "gridwidth": 2,
            "linecolor": "white",
            "showbackground": true,
            "ticks": "",
            "zerolinecolor": "white"
           },
           "yaxis": {
            "backgroundcolor": "#E5ECF6",
            "gridcolor": "white",
            "gridwidth": 2,
            "linecolor": "white",
            "showbackground": true,
            "ticks": "",
            "zerolinecolor": "white"
           },
           "zaxis": {
            "backgroundcolor": "#E5ECF6",
            "gridcolor": "white",
            "gridwidth": 2,
            "linecolor": "white",
            "showbackground": true,
            "ticks": "",
            "zerolinecolor": "white"
           }
          },
          "shapedefaults": {
           "line": {
            "color": "#2a3f5f"
           }
          },
          "ternary": {
           "aaxis": {
            "gridcolor": "white",
            "linecolor": "white",
            "ticks": ""
           },
           "baxis": {
            "gridcolor": "white",
            "linecolor": "white",
            "ticks": ""
           },
           "bgcolor": "#E5ECF6",
           "caxis": {
            "gridcolor": "white",
            "linecolor": "white",
            "ticks": ""
           }
          },
          "title": {
           "x": 0.05
          },
          "xaxis": {
           "automargin": true,
           "gridcolor": "white",
           "linecolor": "white",
           "ticks": "",
           "title": {
            "standoff": 15
           },
           "zerolinecolor": "white",
           "zerolinewidth": 2
          },
          "yaxis": {
           "automargin": true,
           "gridcolor": "white",
           "linecolor": "white",
           "ticks": "",
           "title": {
            "standoff": 15
           },
           "zerolinecolor": "white",
           "zerolinewidth": 2
          }
         }
        }
       }
      }
     },
     "metadata": {},
     "output_type": "display_data"
    }
   ],
   "source": [
    "from pyspark.sql import functions as F\n",
    "import plotly.express as px\n",
    "\n",
    "# Filter the DataFrame for January months starting from 2003\n",
    "df_mini_10Y_Jan = df_mini.filter((df_mini['dt'] >= '2003-01-01') & (F.month('dt') == 1))\n",
    "\n",
    "# Calculate the average temperature for each City, Latitude, and Longitude\n",
    "df_mini_10Y_Jan = df_mini_10Y_Jan.groupby('City', 'Latitude', 'Longitude') \\\n",
    "    .agg(F.mean('AverageTemperature').alias('AverageTemperature'))\n",
    "\n",
    "# Convert the PySpark DataFrame to Pandas DataFrame for visualization\n",
    "df_mini_10Y_Jan_pd = df_mini_10Y_Jan.toPandas()\n",
    "\n",
    "# Create a scatter plot on a geographical map using Plotly\n",
    "fig = px.scatter_geo(df_mini_10Y_Jan_pd, \n",
    "                     lon=\"Longitude\",\n",
    "                     lat=\"Latitude\",\n",
    "                     color=\"AverageTemperature\", \n",
    "                     hover_name=\"City\")\n",
    "\n",
    "fig.show()"
   ]
  },
  {
   "attachments": {},
   "cell_type": "markdown",
   "metadata": {},
   "source": [
    "# *Задание 3.8 (8 баллов)\n",
    "\n",
    "Цель - создать проект, который как минимум включает:\n",
    "1. Использование юнит-тестов ([pytest](https://pytest.org)).\n",
    "2. Применение средств форматирования и проверки исходного кода (например: [isort](https://pycqa.github.io/isort/), [black](https://black.readthedocs.io/en/stable/), [flake8](https://flake8.pycqa.org/en/latest/), [mypy](https://mypy.readthedocs.io/en/stable/)).\n",
    "3. Спецификацию проекта в [pyproject.toml](https://pip.pypa.io/en/stable/reference/build-system/pyproject-toml/).\n",
    "4. Использование утилит для работы с командной строкой ([argparse](https://docs.python.org/3/library/argparse.html), [click](https://click.palletsprojects.com/en/8.1.x/) и т.п.)\n",
    "5. Сборку проекта в Wheel-файл.\n",
    "\n",
    "Проект должен быть загружен в репозиторий. Функционал - произвольный, но должны использоваться данные из этого домашнего задания. Сам файл передается в качестве первого аргумента командной строки.  Например:\n",
    "\n",
    "> python3 -m homeproject.app GlobalLandTemperaturesByMajorCity.csv 1980\n",
    "\n",
    "Выдает самый жаркий месяц и город по наблюдениям за 1980 год."
   ]
  },
  {
   "attachments": {},
   "cell_type": "markdown",
   "metadata": {},
   "source": [
    "*Ссылка на проект*"
   ]
  },
  {
   "attachments": {},
   "cell_type": "markdown",
   "metadata": {},
   "source": []
  }
 ],
 "metadata": {
  "kernelspec": {
   "display_name": "Python 3.10.6 64-bit",
   "language": "python",
   "name": "python3"
  },
  "language_info": {
   "codemirror_mode": {
    "name": "ipython",
    "version": 3
   },
   "file_extension": ".py",
   "mimetype": "text/x-python",
   "name": "python",
   "nbconvert_exporter": "python",
   "pygments_lexer": "ipython3",
   "version": "3.11.3"
  },
  "orig_nbformat": 4,
  "vscode": {
   "interpreter": {
    "hash": "916dbcbb3f70747c44a77c7bcd40155683ae19c65e1c03b4aa3499c5328201f1"
   }
  }
 },
 "nbformat": 4,
 "nbformat_minor": 2
}
